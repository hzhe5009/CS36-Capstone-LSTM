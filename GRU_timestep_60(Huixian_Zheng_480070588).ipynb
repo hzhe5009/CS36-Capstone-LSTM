{
  "nbformat": 4,
  "nbformat_minor": 0,
  "metadata": {
    "colab": {
      "name": "GRU_timestep_60(Huixian Zheng 480070588).ipynb",
      "provenance": [],
      "collapsed_sections": [],
      "machine_shape": "hm",
      "include_colab_link": true
    },
    "kernelspec": {
      "name": "python3",
      "display_name": "Python 3"
    }
  },
  "cells": [
    {
      "cell_type": "markdown",
      "metadata": {
        "id": "view-in-github",
        "colab_type": "text"
      },
      "source": [
        "<a href=\"https://colab.research.google.com/github/hzhe5009/CS36-Capstone-LSTM/blob/master/GRU_timestep_60(Huixian_Zheng_480070588).ipynb\" target=\"_parent\"><img src=\"https://colab.research.google.com/assets/colab-badge.svg\" alt=\"Open In Colab\"/></a>"
      ]
    },
    {
      "cell_type": "code",
      "metadata": {
        "id": "WxaM2Jgg1akR",
        "colab_type": "code",
        "colab": {}
      },
      "source": [
        "import numpy as np\n",
        "import pandas as pd\n",
        "from tensorflow.keras.utils import to_categorical\n",
        "from tensorflow.keras.layers import Dense, LeakyReLU,Dropout, GRU, concatenate,Input\n",
        "from tensorflow.keras import Sequential\n",
        "from sklearn.model_selection import train_test_split\n",
        "from matplotlib import pyplot\n",
        "from datetime import datetime, timedelta, time\n",
        "%matplotlib inline"
      ],
      "execution_count": 0,
      "outputs": []
    },
    {
      "cell_type": "code",
      "metadata": {
        "id": "HKjYWzdEjNJc",
        "colab_type": "code",
        "outputId": "da6e6ae4-f129-48bf-80b5-55214e9913fe",
        "colab": {
          "base_uri": "https://localhost:8080/",
          "height": 34
        }
      },
      "source": [
        "from google.colab import drive\n",
        "drive.mount('/content/gdrive')"
      ],
      "execution_count": 0,
      "outputs": [
        {
          "output_type": "stream",
          "text": [
            "Drive already mounted at /content/gdrive; to attempt to forcibly remount, call drive.mount(\"/content/gdrive\", force_remount=True).\n"
          ],
          "name": "stdout"
        }
      ]
    },
    {
      "cell_type": "code",
      "metadata": {
        "colab_type": "code",
        "id": "DlMIRZPZjZfv",
        "colab": {}
      },
      "source": [
        "data_path = '/content/gdrive/My Drive/ctx/combine_data/partzone3month.csv'\n",
        "new_select_data = pd.read_csv(data_path)\n",
        "\n",
        "new_select_data['pickup_time_g_index'] = pd.to_datetime(new_select_data['pickup_time_g']) #, format='%Y/%m/%d %I:%M:%S %p', errors='ignore')\n",
        "new_select_data['pickup_time_g'] = new_select_data['pickup_time_g_index'].copy()\n",
        "new_select_data.set_index('pickup_time_g_index',inplace=True)\n",
        "new_select_grouper = new_select_data.groupby('LocationID')\n",
        "train_data, label_data = [],[]\n",
        "for each_loc in new_select_grouper:\n",
        "  location_data = each_loc[1]\n",
        "  first_time = True\n",
        "  location_data_sample = location_data.sample(frac=0.001, random_state=2020)\n",
        "  for index, row in location_data_sample.iterrows():\n",
        "    this_time = row['pickup_time_g']\n",
        "    time_window = (location_data['pickup_time_g']>=this_time - timedelta(minutes=60))&(location_data['pickup_time_g']<=this_time - timedelta(minutes=1))\n",
        "    window_items = location_data[time_window]\n",
        "    if len(window_items) == 60:\n",
        "        pu_day_cat = to_categorical(window_items['day'], num_classes=32)\n",
        "        pu_week_cat = to_categorical(window_items['weekday'], num_classes=7)\n",
        "        hour_cat = to_categorical(window_items['hour'], num_classes=25)\n",
        "        minute_cat = to_categorical(window_items['minute'], num_classes=60)\n",
        "        if first_time:\n",
        "          first_time = False\n",
        "          locat_cat = to_categorical(window_items['LocationID'], num_classes=265)\n",
        "        train_data.append(np.hstack((pu_day_cat,pu_week_cat,hour_cat,minute_cat,locat_cat,\n",
        "                                    window_items['minute_demand'].values.reshape(-1,1))))\n",
        "        label_data.append(row['15_demand'])\n",
        "\n",
        "train_data = np.array(train_data)\n",
        "label_data = np.array(label_data)\n",
        "X_tr, X_val, y_tr, y_val = train_test_split(train_data, label_data, test_size=0.1, random_state=2020)"
      ],
      "execution_count": 0,
      "outputs": []
    },
    {
      "cell_type": "code",
      "metadata": {
        "id": "FmUJrRXT7WXi",
        "colab_type": "code",
        "outputId": "fb569feb-d0f4-4910-dad6-cad3496c27ce",
        "colab": {
          "base_uri": "https://localhost:8080/",
          "height": 714
        }
      },
      "source": [
        "# define model\n",
        "model = Sequential()\n",
        "model.add(GRU(512, batch_input_shape=(None, 60, 7+32+25+60+1+265)))\n",
        "model.add(LeakyReLU(alpha=0.1))\n",
        "model.add(Dropout(0.3))\n",
        "model.add(Dense(512))\n",
        "model.add(LeakyReLU(alpha=0.1))\n",
        "model.add(Dropout(0.3))\n",
        "model.add(Dense(265))\n",
        "model.add(LeakyReLU(alpha=0.1))\n",
        "model.add(Dropout(0.3))\n",
        "model.add(Dense(1, activation='relu'))\n",
        "print(model.summary())\n",
        "\n",
        "# compile the model\n",
        "model.compile(loss='mean_squared_error', metrics=['mse', 'mae', 'mape'], optimizer='adam')\n",
        "history = model.fit(X_tr, y_tr, epochs=6, verbose=2, validation_data=(X_val, y_val))"
      ],
      "execution_count": 0,
      "outputs": [
        {
          "output_type": "stream",
          "text": [
            "Model: \"sequential\"\n",
            "_________________________________________________________________\n",
            "Layer (type)                 Output Shape              Param #   \n",
            "=================================================================\n",
            "gru (GRU)                    (None, 512)               1388544   \n",
            "_________________________________________________________________\n",
            "leaky_re_lu (LeakyReLU)      (None, 512)               0         \n",
            "_________________________________________________________________\n",
            "dropout (Dropout)            (None, 512)               0         \n",
            "_________________________________________________________________\n",
            "dense (Dense)                (None, 512)               262656    \n",
            "_________________________________________________________________\n",
            "leaky_re_lu_1 (LeakyReLU)    (None, 512)               0         \n",
            "_________________________________________________________________\n",
            "dropout_1 (Dropout)          (None, 512)               0         \n",
            "_________________________________________________________________\n",
            "dense_1 (Dense)              (None, 265)               135945    \n",
            "_________________________________________________________________\n",
            "leaky_re_lu_2 (LeakyReLU)    (None, 265)               0         \n",
            "_________________________________________________________________\n",
            "dropout_2 (Dropout)          (None, 265)               0         \n",
            "_________________________________________________________________\n",
            "dense_2 (Dense)              (None, 1)                 266       \n",
            "=================================================================\n",
            "Total params: 1,787,411\n",
            "Trainable params: 1,787,411\n",
            "Non-trainable params: 0\n",
            "_________________________________________________________________\n",
            "None\n",
            "Epoch 1/6\n",
            "472/472 - 137s - loss: 72.5374 - mse: 72.5939 - mae: 4.0300 - mape: 248149632.0000 - val_loss: 35.7528 - val_mse: 35.7509 - val_mae: 3.0887 - val_mape: 49389940.0000\n",
            "Epoch 2/6\n",
            "472/472 - 136s - loss: 48.6474 - mse: 48.6929 - mae: 3.2406 - mape: 114415176.0000 - val_loss: 32.2166 - val_mse: 32.1457 - val_mae: 2.8655 - val_mape: 83020504.0000\n",
            "Epoch 3/6\n",
            "472/472 - 133s - loss: 45.0371 - mse: 45.0716 - mae: 3.1070 - mape: 89566600.0000 - val_loss: 38.7460 - val_mse: 38.9044 - val_mae: 3.0613 - val_mape: 68409224.0000\n",
            "Epoch 4/6\n",
            "472/472 - 137s - loss: 42.7837 - mse: 42.8015 - mae: 3.0044 - mape: 83530840.0000 - val_loss: 30.4637 - val_mse: 30.3484 - val_mae: 2.7340 - val_mape: 60033608.0000\n",
            "Epoch 5/6\n",
            "472/472 - 137s - loss: 39.8802 - mse: 39.9048 - mae: 2.9237 - mape: 68660040.0000 - val_loss: 29.3059 - val_mse: 29.4513 - val_mae: 2.7720 - val_mape: 58107980.0000\n",
            "Epoch 6/6\n",
            "472/472 - 136s - loss: 38.5101 - mse: 38.5259 - mae: 2.8632 - mape: 62666968.0000 - val_loss: 29.6528 - val_mse: 29.7112 - val_mae: 2.7508 - val_mape: 136321296.0000\n"
          ],
          "name": "stdout"
        }
      ]
    },
    {
      "cell_type": "code",
      "metadata": {
        "id": "MSGOU3X77riQ",
        "colab_type": "code",
        "outputId": "ae69def5-f1fd-4bcb-9091-4ec67c3cf1fa",
        "colab": {
          "base_uri": "https://localhost:8080/",
          "height": 85
        }
      },
      "source": [
        "# evaluate the model\n",
        "train_metric = model.evaluate(X_tr, y_tr, verbose=2)\n",
        "test_metric = model.evaluate(X_val, y_val, verbose=2)\n",
        "print(train_metric)\n",
        "print(test_metric)"
      ],
      "execution_count": 0,
      "outputs": [
        {
          "output_type": "stream",
          "text": [
            "472/472 - 43s - loss: 24.8628 - mse: 24.8826 - mae: 2.4111 - mape: 125326704.0000\n",
            "53/53 - 5s - loss: 29.6528 - mse: 29.7112 - mae: 2.7508 - mape: 136321296.0000\n",
            "[24.86281967163086, 24.882587432861328, 2.411133289337158, 125326704.0]\n",
            "[29.652753829956055, 29.711225509643555, 2.750803232192993, 136321296.0]\n"
          ],
          "name": "stdout"
        }
      ]
    },
    {
      "cell_type": "code",
      "metadata": {
        "id": "1n14tNcc_u_o",
        "colab_type": "code",
        "outputId": "d351a70a-5f35-4ede-c206-95d0e33c6ad5",
        "colab": {
          "base_uri": "https://localhost:8080/",
          "height": 281
        }
      },
      "source": [
        "# plot loss during training\n",
        "pyplot.title('Loss / Mean Squared Error')\n",
        "pyplot.plot(history.history['loss'], label='train')\n",
        "pyplot.plot(history.history['val_loss'], label='test')\n",
        "pyplot.legend()\n",
        "pyplot.show()"
      ],
      "execution_count": 0,
      "outputs": [
        {
          "output_type": "display_data",
          "data": {
            "image/png": "[encoded data removed]",
            "text/plain": [
              "<Figure size 432x288 with 1 Axes>"
            ]
          },
          "metadata": {
            "tags": [],
            "needs_background": "light"
          }
        }
      ]
    },
    {
      "cell_type": "code",
      "metadata": {
        "id": "QelRMmNwZYdl",
        "colab_type": "code",
        "colab": {}
      },
      "source": [
        "data_path = '/content/gdrive/My Drive/ctx/combine_data/2019test/All_Demand_2019_3months.csv'\n",
        "new_select_data = pd.read_csv(data_path)\n",
        "\n",
        "new_select_data['pickup_time_g_index'] = pd.to_datetime(new_select_data['pickup_time_g']) #, format='%Y/%m/%d %I:%M:%S %p', errors='ignore')\n",
        "new_select_data['pickup_time_g'] = new_select_data['pickup_time_g_index'].copy()\n",
        "new_select_data.set_index('pickup_time_g_index',inplace=True)\n",
        "new_select_grouper = new_select_data.groupby('LocationID')\n",
        "train_data, label_data = [],[]\n",
        "for each_loc in new_select_grouper:\n",
        "  location_data = each_loc[1]\n",
        "  first_time = True\n",
        "  location_data_sample = location_data.sample(frac=0.001, random_state=2020)\n",
        "  for index, row in location_data_sample.iterrows():\n",
        "    this_time = row['pickup_time_g']\n",
        "    time_window = (location_data['pickup_time_g']>=this_time - timedelta(minutes=15))&(location_data['pickup_time_g']<=this_time - timedelta(minutes=1))\n",
        "    window_items = location_data[time_window]\n",
        "    if len(window_items) == 15:\n",
        "        pu_day_cat = to_categorical(window_items['day'], num_classes=32)\n",
        "        pu_week_cat = to_categorical(window_items['weekday'], num_classes=7)\n",
        "        hour_cat = to_categorical(window_items['hour'], num_classes=25)\n",
        "        minute_cat = to_categorical(window_items['minute'], num_classes=60)\n",
        "        if first_time:\n",
        "          first_time = False\n",
        "          locat_cat = to_categorical(window_items['LocationID'], num_classes=265)\n",
        "        train_data.append(np.hstack((pu_day_cat,pu_week_cat,hour_cat,minute_cat,locat_cat,\n",
        "                                    window_items['minute_demand'].values.reshape(-1,1))))\n",
        "        label_data.append(row['15_demand'])\n",
        "\n",
        "\n",
        "train_data = np.array(train_data)\n",
        "label_data = np.array(label_data)\n",
        "X_tr, X_val, y_tr, y_val = train_test_split(train_data, label_data, test_size=0.1, random_state=2020)"
      ],
      "execution_count": 0,
      "outputs": []
    },
    {
      "cell_type": "code",
      "metadata": {
        "id": "INDyZnRDlkSL",
        "colab_type": "code",
        "outputId": "2b5639ef-f4e2-47d3-fb4c-5d5f6c0d71f8",
        "colab": {
          "base_uri": "https://localhost:8080/",
          "height": 88
        }
      },
      "source": [
        "test_metric = model.evaluate(X_val, y_val, verbose=2)\n",
        "print(test_metric)"
      ],
      "execution_count": 0,
      "outputs": [
        {
          "output_type": "stream",
          "text": [
            "WARNING:tensorflow:Model was constructed with shape (None, 60, 390) for input Tensor(\"gru_input:0\", shape=(None, 60, 390), dtype=float32), but it was called on an input with incompatible shape (None, 15, 390).\n",
            "53/53 - 1s - loss: 33.8538 - mse: 34.1694 - mae: 2.9778 - mape: 207857024.0000\n",
            "[33.85384750366211, 34.169429779052734, 2.9777724742889404, 207857024.0]\n"
          ],
          "name": "stdout"
        }
      ]
    },
    {
      "cell_type": "code",
      "metadata": {
        "id": "RZM_z1RZYaFA",
        "colab_type": "code",
        "colab": {}
      },
      "source": [
        ""
      ],
      "execution_count": 0,
      "outputs": []
    }
  ]
}