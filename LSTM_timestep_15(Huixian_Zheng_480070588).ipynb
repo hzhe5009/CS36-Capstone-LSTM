{
  "nbformat": 4,
  "nbformat_minor": 0,
  "metadata": {
    "colab": {
      "name": "LSTM_timestep_15(Huixian Zheng 480070588).ipynb",
      "provenance": [],
      "collapsed_sections": [],
      "machine_shape": "hm",
      "include_colab_link": true
    },
    "kernelspec": {
      "name": "python3",
      "display_name": "Python 3"
    }
  },
  "cells": [
    {
      "cell_type": "markdown",
      "metadata": {
        "id": "view-in-github",
        "colab_type": "text"
      },
      "source": [
        "<a href=\"https://colab.research.google.com/github/hzhe5009/CS36-Capstone-LSTM/blob/master/LSTM_timestep_15(Huixian_Zheng_480070588).ipynb\" target=\"_parent\"><img src=\"https://colab.research.google.com/assets/colab-badge.svg\" alt=\"Open In Colab\"/></a>"
      ]
    },
    {
      "cell_type": "code",
      "metadata": {
        "id": "WxaM2Jgg1akR",
        "colab_type": "code",
        "colab": {}
      },
      "source": [
        "import numpy as np\n",
        "import pandas as pd\n",
        "from tensorflow.keras.utils import to_categorical\n",
        "from tensorflow.keras.layers import Dense, LeakyReLU,Dropout, LSTM, concatenate,Input\n",
        "from tensorflow.keras import Sequential\n",
        "from sklearn.model_selection import train_test_split\n",
        "from matplotlib import pyplot\n",
        "from datetime import datetime, timedelta, time\n",
        "%matplotlib inline"
      ],
      "execution_count": 0,
      "outputs": []
    },
    {
      "cell_type": "code",
      "metadata": {
        "id": "HKjYWzdEjNJc",
        "colab_type": "code",
        "outputId": "10f51407-e587-4756-da0b-15e4ae0973d4",
        "colab": {
          "base_uri": "https://localhost:8080/",
          "height": 122
        }
      },
      "source": [
        "from google.colab import drive\n",
        "drive.mount('/content/gdrive')"
      ],
      "execution_count": 0,
      "outputs": [
        {
          "output_type": "stream",
          "text": [
            "Go to this URL in a browser: https://accounts.google.com/o/oauth2/auth?client_id=947318989803-6bn6qk8qdgf4n4g3pfee6491hc0brc4i.apps.googleusercontent.com&redirect_uri=urn%3aietf%3awg%3aoauth%3a2.0%3aoob&response_type=code&scope=email%20https%3a%2f%2fwww.googleapis.com%2fauth%2fdocs.test%20https%3a%2f%2fwww.googleapis.com%2fauth%2fdrive%20https%3a%2f%2fwww.googleapis.com%2fauth%2fdrive.photos.readonly%20https%3a%2f%2fwww.googleapis.com%2fauth%2fpeopleapi.readonly\n",
            "\n",
            "Enter your authorization code:\n",
            "··········\n",
            "Mounted at /content/gdrive\n"
          ],
          "name": "stdout"
        }
      ]
    },
    {
      "cell_type": "code",
      "metadata": {
        "colab_type": "code",
        "id": "DlMIRZPZjZfv",
        "colab": {}
      },
      "source": [
        "data_path = '/content/gdrive/My Drive/ctx/combine_data/partzone3month.csv'\n",
        "new_select_data = pd.read_csv(data_path)\n",
        "\n",
        "new_select_data['pickup_time_g_index'] = pd.to_datetime(new_select_data['pickup_time_g']) #, format='%Y/%m/%d %I:%M:%S %p', errors='ignore')\n",
        "new_select_data['pickup_time_g'] = new_select_data['pickup_time_g_index'].copy()\n",
        "new_select_data.set_index('pickup_time_g_index',inplace=True)\n",
        "new_select_grouper = new_select_data.groupby('LocationID')\n",
        "train_data, label_data = [],[]\n",
        "for each_loc in new_select_grouper:\n",
        "  location_data = each_loc[1]\n",
        "  first_time = True\n",
        "  location_data_sample = location_data.sample(frac=0.005, random_state=2020)\n",
        "  for index, row in location_data_sample.iterrows():\n",
        "    this_time = row['pickup_time_g']\n",
        "    time_window = (location_data['pickup_time_g']>=this_time - timedelta(minutes=15))&(location_data['pickup_time_g']<=this_time - timedelta(minutes=1))\n",
        "    window_items = location_data[time_window]\n",
        "    if len(window_items) == 15:\n",
        "        pu_day_cat = to_categorical(window_items['day'], num_classes=32)\n",
        "        pu_week_cat = to_categorical(window_items['weekday'], num_classes=7)\n",
        "        hour_cat = to_categorical(window_items['hour'], num_classes=25)\n",
        "        minute_cat = to_categorical(window_items['minute'], num_classes=60)\n",
        "        if first_time:\n",
        "          first_time = False\n",
        "          locat_cat = to_categorical(window_items['LocationID'], num_classes=265)\n",
        "        train_data.append(np.hstack((pu_day_cat,pu_week_cat,hour_cat,minute_cat,locat_cat,\n",
        "                                    window_items['minute_demand'].values.reshape(-1,1))))\n",
        "        label_data.append(row['15_demand'])\n",
        "\n",
        "train_data = np.array(train_data)\n",
        "label_data = np.array(label_data)\n",
        "X_tr, X_val, y_tr, y_val = train_test_split(train_data, label_data, test_size=0.1, random_state=2020)"
      ],
      "execution_count": 0,
      "outputs": []
    },
    {
      "cell_type": "code",
      "metadata": {
        "id": "FmUJrRXT7WXi",
        "colab_type": "code",
        "outputId": "edd0cc60-d964-453e-cb2f-72b6074f6f2c",
        "colab": {
          "base_uri": "https://localhost:8080/",
          "height": 850
        }
      },
      "source": [
        "# define model\n",
        "model = Sequential()\n",
        "model.add(LSTM(512, batch_input_shape=(None, 15, 7+32+25+60+1+265)))\n",
        "model.add(LeakyReLU(alpha=0.1))\n",
        "model.add(Dropout(0.3))\n",
        "model.add(Dense(512))\n",
        "model.add(LeakyReLU(alpha=0.1))\n",
        "model.add(Dropout(0.3))\n",
        "model.add(Dense(265))\n",
        "model.add(LeakyReLU(alpha=0.1))\n",
        "model.add(Dropout(0.3))\n",
        "model.add(Dense(1, activation='relu'))\n",
        "print(model.summary())\n",
        "\n",
        "# compile the model\n",
        "model.compile(loss='mean_squared_error', metrics=['mse', 'mae', 'mape'], optimizer='adam')\n",
        "history = model.fit(X_tr, y_tr, epochs=10, verbose=2, validation_data=(X_val, y_val))"
      ],
      "execution_count": 0,
      "outputs": [
        {
          "output_type": "stream",
          "text": [
            "Model: \"sequential\"\n",
            "_________________________________________________________________\n",
            "Layer (type)                 Output Shape              Param #   \n",
            "=================================================================\n",
            "lstm (LSTM)                  (None, 512)               1849344   \n",
            "_________________________________________________________________\n",
            "leaky_re_lu (LeakyReLU)      (None, 512)               0         \n",
            "_________________________________________________________________\n",
            "dropout (Dropout)            (None, 512)               0         \n",
            "_________________________________________________________________\n",
            "dense (Dense)                (None, 512)               262656    \n",
            "_________________________________________________________________\n",
            "leaky_re_lu_1 (LeakyReLU)    (None, 512)               0         \n",
            "_________________________________________________________________\n",
            "dropout_1 (Dropout)          (None, 512)               0         \n",
            "_________________________________________________________________\n",
            "dense_1 (Dense)              (None, 265)               135945    \n",
            "_________________________________________________________________\n",
            "leaky_re_lu_2 (LeakyReLU)    (None, 265)               0         \n",
            "_________________________________________________________________\n",
            "dropout_2 (Dropout)          (None, 265)               0         \n",
            "_________________________________________________________________\n",
            "dense_2 (Dense)              (None, 1)                 266       \n",
            "=================================================================\n",
            "Total params: 2,248,211\n",
            "Trainable params: 2,248,211\n",
            "Non-trainable params: 0\n",
            "_________________________________________________________________\n",
            "None\n",
            "Epoch 1/10\n",
            "2365/2365 - 274s - loss: 66.2109 - mse: 66.2147 - mae: 3.7282 - mape: 121430760.0000 - val_loss: 45.6553 - val_mse: 45.5940 - val_mae: 3.1247 - val_mape: 70034648.0000\n",
            "Epoch 2/10\n",
            "2365/2365 - 277s - loss: 53.7261 - mse: 53.7268 - mae: 3.3565 - mape: 73719496.0000 - val_loss: 40.7937 - val_mse: 40.6981 - val_mae: 3.0285 - val_mape: 65916388.0000\n",
            "Epoch 3/10\n",
            "2365/2365 - 273s - loss: 48.5121 - mse: 48.4984 - mae: 3.1690 - mape: 58515344.0000 - val_loss: 41.5822 - val_mse: 41.5461 - val_mae: 2.9604 - val_mape: 54473448.0000\n",
            "Epoch 4/10\n",
            "2365/2365 - 274s - loss: 46.0397 - mse: 46.0358 - mae: 3.0786 - mape: 54861604.0000 - val_loss: 44.1875 - val_mse: 44.1865 - val_mae: 3.1014 - val_mape: 95520576.0000\n",
            "Epoch 5/10\n",
            "2365/2365 - 272s - loss: 41.6606 - mse: 41.6533 - mae: 2.9399 - mape: 49752268.0000 - val_loss: 40.0279 - val_mse: 39.9299 - val_mae: 2.9727 - val_mape: 55668112.0000\n",
            "Epoch 6/10\n",
            "2365/2365 - 275s - loss: 38.2613 - mse: 38.2537 - mae: 2.8456 - mape: 48750688.0000 - val_loss: 34.6842 - val_mse: 34.6406 - val_mae: 2.7767 - val_mape: 38975012.0000\n",
            "Epoch 7/10\n",
            "2365/2365 - 272s - loss: 37.8123 - mse: 37.8162 - mae: 2.8132 - mape: 45220180.0000 - val_loss: 35.2914 - val_mse: 35.2664 - val_mae: 2.8012 - val_mape: 45405656.0000\n",
            "Epoch 8/10\n",
            "2365/2365 - 273s - loss: 35.5317 - mse: 35.5282 - mae: 2.7365 - mape: 45200236.0000 - val_loss: 42.1193 - val_mse: 42.0145 - val_mae: 3.0648 - val_mape: 22432958.0000\n",
            "Epoch 9/10\n",
            "2365/2365 - 273s - loss: 32.9101 - mse: 32.9075 - mae: 2.6580 - mape: 40288404.0000 - val_loss: 44.2956 - val_mse: 44.1554 - val_mae: 3.0351 - val_mape: 24462492.0000\n",
            "Epoch 10/10\n",
            "2365/2365 - 276s - loss: 30.5254 - mse: 30.5287 - mae: 2.5686 - mape: 40541836.0000 - val_loss: 39.1795 - val_mse: 39.1403 - val_mae: 2.8720 - val_mape: 32169864.0000\n"
          ],
          "name": "stdout"
        }
      ]
    },
    {
      "cell_type": "code",
      "metadata": {
        "id": "MSGOU3X77riQ",
        "colab_type": "code",
        "outputId": "64224afb-a925-4c23-fbcf-e568095a1dfd",
        "colab": {
          "base_uri": "https://localhost:8080/",
          "height": 85
        }
      },
      "source": [
        "# evaluate the model\n",
        "train_metric = model.evaluate(X_tr, y_tr, verbose=2)\n",
        "test_metric = model.evaluate(X_val, y_val, verbose=2)\n",
        "print(train_metric)\n",
        "print(test_metric)"
      ],
      "execution_count": 0,
      "outputs": [
        {
          "output_type": "stream",
          "text": [
            "2365/2365 - 78s - loss: 23.1472 - mse: 23.1481 - mae: 2.2514 - mape: 25294416.0000\n",
            "263/263 - 9s - loss: 39.1795 - mse: 39.1403 - mae: 2.8720 - mape: 32169864.0000\n",
            "[23.14722442626953, 23.14812660217285, 2.2513644695281982, 25294416.0]\n",
            "[39.17953872680664, 39.14028549194336, 2.8719990253448486, 32169864.0]\n"
          ],
          "name": "stdout"
        }
      ]
    },
    {
      "cell_type": "code",
      "metadata": {
        "id": "1n14tNcc_u_o",
        "colab_type": "code",
        "outputId": "de632c69-14e0-4e03-e873-2f302989ec1c",
        "colab": {
          "base_uri": "https://localhost:8080/",
          "height": 281
        }
      },
      "source": [
        "# plot loss during training\n",
        "pyplot.title('Loss / Mean Squared Error')\n",
        "pyplot.plot(history.history['loss'], label='train')\n",
        "pyplot.plot(history.history['val_loss'], label='test')\n",
        "pyplot.legend()\n",
        "pyplot.show()"
      ],
      "execution_count": 0,
      "outputs": [
        {
          "output_type": "display_data",
          "data": {
            "image/png": "[encoded data removed]",
            "text/plain": [
              "<Figure size 432x288 with 1 Axes>"
            ]
          },
          "metadata": {
            "tags": [],
            "needs_background": "light"
          }
        }
      ]
    },
    {
      "cell_type": "code",
      "metadata": {
        "id": "QelRMmNwZYdl",
        "colab_type": "code",
        "colab": {}
      },
      "source": [
        "data_path = '/content/gdrive/My Drive/ctx/combine_data/2019test/All_Demand_2019_3months.csv'\n",
        "new_select_data = pd.read_csv(data_path)\n",
        "\n",
        "new_select_data['pickup_time_g_index'] = pd.to_datetime(new_select_data['pickup_time_g']) #, format='%Y/%m/%d %I:%M:%S %p', errors='ignore')\n",
        "new_select_data['pickup_time_g'] = new_select_data['pickup_time_g_index'].copy()\n",
        "new_select_data.set_index('pickup_time_g_index',inplace=True)\n",
        "new_select_grouper = new_select_data.groupby('LocationID')\n",
        "train_data, label_data = [],[]\n",
        "for each_loc in new_select_grouper:\n",
        "  location_data = each_loc[1]\n",
        "  first_time = True\n",
        "  location_data_sample = location_data.sample(frac=0.001, random_state=2020)\n",
        "  for index, row in location_data_sample.iterrows():\n",
        "    this_time = row['pickup_time_g']\n",
        "    time_window = (location_data['pickup_time_g']>=this_time - timedelta(minutes=15))&(location_data['pickup_time_g']<=this_time - timedelta(minutes=1))\n",
        "    window_items = location_data[time_window]\n",
        "    if len(window_items) == 15:\n",
        "        pu_day_cat = to_categorical(window_items['day'], num_classes=32)\n",
        "        pu_week_cat = to_categorical(window_items['weekday'], num_classes=7)\n",
        "        hour_cat = to_categorical(window_items['hour'], num_classes=25)\n",
        "        minute_cat = to_categorical(window_items['minute'], num_classes=60)\n",
        "        if first_time:\n",
        "          first_time = False\n",
        "          locat_cat = to_categorical(window_items['LocationID'], num_classes=265)\n",
        "        train_data.append(np.hstack((pu_day_cat,pu_week_cat,hour_cat,minute_cat,locat_cat,\n",
        "                                    window_items['minute_demand'].values.reshape(-1,1))))\n",
        "        label_data.append(row['15_demand'])\n",
        "\n",
        "\n",
        "train_data = np.array(train_data)\n",
        "label_data = np.array(label_data)\n",
        "X_tr, X_val, y_tr, y_val = train_test_split(train_data, label_data, test_size=0.1, random_state=2020)"
      ],
      "execution_count": 0,
      "outputs": []
    },
    {
      "cell_type": "code",
      "metadata": {
        "id": "INDyZnRDlkSL",
        "colab_type": "code",
        "outputId": "fff866c2-39ed-45bd-c499-df691ab0ad1b",
        "colab": {
          "base_uri": "https://localhost:8080/",
          "height": 51
        }
      },
      "source": [
        "test_metric = model.evaluate(X_val, y_val, verbose=2)\n",
        "print(test_metric)"
      ],
      "execution_count": 0,
      "outputs": [
        {
          "output_type": "stream",
          "text": [
            "53/53 - 2s - loss: 32.3423 - mse: 32.4746 - mae: 2.6464 - mape: 59880004.0000\n",
            "[32.34228515625, 32.47460174560547, 2.6464409828186035, 59880004.0]\n"
          ],
          "name": "stdout"
        }
      ]
    },
    {
      "cell_type": "code",
      "metadata": {
        "id": "579QZv4uOXWd",
        "colab_type": "code",
        "colab": {}
      },
      "source": [
        "pyplot.plot(history.history['mean_squared_error'])\n",
        "# pyplot.plot(history.history['mean_absolute_error'])\n",
        "# pyplot.plot(history.history['mean_absolute_percentage_error'])\n",
        "pyplot.show()"
      ],
      "execution_count": 0,
      "outputs": []
    },
    {
      "cell_type": "code",
      "metadata": {
        "id": "wIWKkSFAbgs5",
        "colab_type": "code",
        "colab": {}
      },
      "source": [
        "# pyplot.plot(history.history['mean_squared_error'])\n",
        "pyplot.plot(history.history['mean_absolute_error'])\n",
        "# pyplot.plot(history.history['mean_absolute_percentage_error'])\n",
        "pyplot.show()"
      ],
      "execution_count": 0,
      "outputs": []
    },
    {
      "cell_type": "code",
      "metadata": {
        "id": "RZM_z1RZYaFA",
        "colab_type": "code",
        "colab": {}
      },
      "source": [
        ""
      ],
      "execution_count": 0,
      "outputs": []
    }
  ]
}